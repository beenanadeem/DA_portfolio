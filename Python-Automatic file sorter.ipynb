{
 "cells": [
  {
   "cell_type": "code",
   "execution_count": null,
   "id": "6e86f755-9002-4484-8e4b-6b36547fbcf8",
   "metadata": {},
   "outputs": [],
   "source": [
    "#Automatic file sorter"
   ]
  },
  {
   "cell_type": "code",
   "execution_count": 1,
   "id": "724a493c-8f45-44f7-b515-46d3758822e3",
   "metadata": {},
   "outputs": [],
   "source": [
    "import os, shutil"
   ]
  },
  {
   "cell_type": "code",
   "execution_count": 5,
   "id": "63dc7cf0-461c-4b4c-9542-121c00d00df9",
   "metadata": {},
   "outputs": [],
   "source": [
    "path = r\"C:/Users/DELL/Desktop/BEENA NADEEM/Beena Docs/\""
   ]
  },
  {
   "cell_type": "code",
   "execution_count": 34,
   "id": "803c7445-5865-4d3e-84d2-b4ecd316e366",
   "metadata": {},
   "outputs": [
    {
     "data": {
      "text/plain": [
       "['15995179.pdf',\n",
       " 'Bank Statement Beena Nadeem.pdf',\n",
       " 'BEENA NADEEM RESUME - Corporate.docx',\n",
       " 'BEENA NADEEM RESUME-Fajr.docx',\n",
       " 'BEENA NADEEM RESUME-Teaching.docx',\n",
       " 'Beena- NTN.pdf',\n",
       " 'Data Analyst Resume.docx',\n",
       " 'Data Analyst Resume.docx.pdf',\n",
       " 'Declaration4220130301198 (1).pdf',\n",
       " 'DSC_0100.jpg',\n",
       " 'DSC_0101.jpg',\n",
       " 'Final Transcript.pdf',\n",
       " 'NIC Back.jpeg',\n",
       " 'NIC front.jpeg',\n",
       " 'Passport Beena Nadeem.pdf',\n",
       " 'Passport size picture.jpeg',\n",
       " 'Resume Fajr.docx',\n",
       " 'Resume.docx',\n",
       " 'Safari.pdf',\n",
       " 'Tax-interview.pdf',\n",
       " 'Zakat Calculations.xlsx']"
      ]
     },
     "execution_count": 34,
     "metadata": {},
     "output_type": "execute_result"
    }
   ],
   "source": [
    "os.listdir(path)"
   ]
  },
  {
   "cell_type": "code",
   "execution_count": 9,
   "id": "f10fa36c-7da5-4b71-b1cc-7063552955c8",
   "metadata": {},
   "outputs": [],
   "source": [
    "file_name = os.listdir(path)"
   ]
  },
  {
   "cell_type": "code",
   "execution_count": 22,
   "id": "25e24238-d571-4c7d-8c40-9978940087e2",
   "metadata": {},
   "outputs": [],
   "source": [
    "folder_names = ['word file', 'pdf file']\n",
    "for loop in range(0,2):\n",
    "    if not os.path.exists(path + folder_names[loop]):\n",
    "                print(path + folder_names[loop])\n",
    "                os.makedirs(path + folder_names[loop])"
   ]
  },
  {
   "cell_type": "code",
   "execution_count": 29,
   "id": "2746af0c-8d42-4cb4-9970-b9a7d438bbeb",
   "metadata": {},
   "outputs": [
    {
     "ename": "FileNotFoundError",
     "evalue": "[WinError 2] The system cannot find the file specified",
     "output_type": "error",
     "traceback": [
      "\u001b[1;31m---------------------------------------------------------------------------\u001b[0m",
      "\u001b[1;31mFileNotFoundError\u001b[0m                         Traceback (most recent call last)",
      "File \u001b[1;32m~\\anaconda3\\Lib\\shutil.py:847\u001b[0m, in \u001b[0;36mmove\u001b[1;34m(src, dst, copy_function)\u001b[0m\n\u001b[0;32m    846\u001b[0m \u001b[38;5;28;01mtry\u001b[39;00m:\n\u001b[1;32m--> 847\u001b[0m     os\u001b[38;5;241m.\u001b[39mrename(src, real_dst)\n\u001b[0;32m    848\u001b[0m \u001b[38;5;28;01mexcept\u001b[39;00m \u001b[38;5;167;01mOSError\u001b[39;00m:\n",
      "\u001b[1;31mFileNotFoundError\u001b[0m: [WinError 2] The system cannot find the file specified: 'C:/Users/DELL/Desktop/BEENA NADEEM/Beena Docs/Data Analyst Resume.docx.pdf' -> 'C:/Users/DELL/Desktop/BEENA NADEEM/Beena Docs/word file/Data Analyst Resume.docx.pdf'",
      "\nDuring handling of the above exception, another exception occurred:\n",
      "\u001b[1;31mFileNotFoundError\u001b[0m                         Traceback (most recent call last)",
      "Cell \u001b[1;32mIn[29], line 5\u001b[0m\n\u001b[0;32m      3\u001b[0m     shutil\u001b[38;5;241m.\u001b[39mmove (path\u001b[38;5;241m+\u001b[39mfile, path \u001b[38;5;241m+\u001b[39m \u001b[38;5;124m\"\u001b[39m\u001b[38;5;124mpdf file/\u001b[39m\u001b[38;5;124m\"\u001b[39m \u001b[38;5;241m+\u001b[39m file)\n\u001b[0;32m      4\u001b[0m \u001b[38;5;28;01melif\u001b[39;00m \u001b[38;5;124m\"\u001b[39m\u001b[38;5;124m.docx\u001b[39m\u001b[38;5;124m\"\u001b[39m \u001b[38;5;129;01min\u001b[39;00m file \u001b[38;5;129;01mand\u001b[39;00m \u001b[38;5;129;01mnot\u001b[39;00m os\u001b[38;5;241m.\u001b[39mpath\u001b[38;5;241m.\u001b[39mexists(path \u001b[38;5;241m+\u001b[39m \u001b[38;5;124m\"\u001b[39m\u001b[38;5;124mword file/\u001b[39m\u001b[38;5;124m\"\u001b[39m \u001b[38;5;241m+\u001b[39m file):\n\u001b[1;32m----> 5\u001b[0m     shutil\u001b[38;5;241m.\u001b[39mmove (path\u001b[38;5;241m+\u001b[39mfile, path \u001b[38;5;241m+\u001b[39m \u001b[38;5;124m\"\u001b[39m\u001b[38;5;124mword file/\u001b[39m\u001b[38;5;124m\"\u001b[39m \u001b[38;5;241m+\u001b[39m file)\n",
      "File \u001b[1;32m~\\anaconda3\\Lib\\shutil.py:867\u001b[0m, in \u001b[0;36mmove\u001b[1;34m(src, dst, copy_function)\u001b[0m\n\u001b[0;32m    865\u001b[0m         rmtree(src)\n\u001b[0;32m    866\u001b[0m     \u001b[38;5;28;01melse\u001b[39;00m:\n\u001b[1;32m--> 867\u001b[0m         copy_function(src, real_dst)\n\u001b[0;32m    868\u001b[0m         os\u001b[38;5;241m.\u001b[39munlink(src)\n\u001b[0;32m    869\u001b[0m \u001b[38;5;28;01mreturn\u001b[39;00m real_dst\n",
      "File \u001b[1;32m~\\anaconda3\\Lib\\shutil.py:460\u001b[0m, in \u001b[0;36mcopy2\u001b[1;34m(src, dst, follow_symlinks)\u001b[0m\n\u001b[0;32m    458\u001b[0m     flags \u001b[38;5;241m|\u001b[39m\u001b[38;5;241m=\u001b[39m _winapi\u001b[38;5;241m.\u001b[39mCOPY_FILE_COPY_SYMLINK\n\u001b[0;32m    459\u001b[0m \u001b[38;5;28;01mtry\u001b[39;00m:\n\u001b[1;32m--> 460\u001b[0m     _winapi\u001b[38;5;241m.\u001b[39mCopyFile2(src_, dst_, flags)\n\u001b[0;32m    461\u001b[0m     \u001b[38;5;28;01mreturn\u001b[39;00m dst\n\u001b[0;32m    462\u001b[0m \u001b[38;5;28;01mexcept\u001b[39;00m \u001b[38;5;167;01mOSError\u001b[39;00m \u001b[38;5;28;01mas\u001b[39;00m exc:\n",
      "\u001b[1;31mFileNotFoundError\u001b[0m: [WinError 2] The system cannot find the file specified"
     ]
    }
   ],
   "source": [
    " for file in file_name:\n",
    "    if \".pdf\" in file and not os.path.exists(path + \"pdf file/\" + file):\n",
    "        shutil.move (path+file, path + \"pdf file/\" + file)\n",
    "    elif \".docx\" in file and not os.path.exists(path + \"word file/\" + file):\n",
    "        shutil.move (path+file, path + \"word file/\" + file)   "
   ]
  },
  {
   "cell_type": "code",
   "execution_count": 31,
   "id": "02b5cc64-8bf1-45ee-a8d1-51d2886d6efc",
   "metadata": {},
   "outputs": [],
   "source": [
    "#path+file is current path and after comma is the path we want it to go. "
   ]
  },
  {
   "cell_type": "code",
   "execution_count": null,
   "id": "349c56a0-a78b-46a0-b83a-71ec0cdd8dc7",
   "metadata": {},
   "outputs": [],
   "source": []
  },
  {
   "cell_type": "code",
   "execution_count": null,
   "id": "912fe997-466b-46f8-a907-dfd0553757b8",
   "metadata": {},
   "outputs": [],
   "source": []
  },
  {
   "cell_type": "code",
   "execution_count": null,
   "id": "7903fa47-da46-47a5-9003-d72c10d682f3",
   "metadata": {},
   "outputs": [],
   "source": []
  },
  {
   "cell_type": "code",
   "execution_count": null,
   "id": "a7ea528f-f7fc-4e25-a84e-d2f57a557e44",
   "metadata": {},
   "outputs": [],
   "source": []
  },
  {
   "cell_type": "code",
   "execution_count": null,
   "id": "1bb5a09b-bda7-4fe1-b95b-98f4b155a42e",
   "metadata": {},
   "outputs": [],
   "source": []
  }
 ],
 "metadata": {
  "kernelspec": {
   "display_name": "Python 3 (ipykernel)",
   "language": "python",
   "name": "python3"
  },
  "language_info": {
   "codemirror_mode": {
    "name": "ipython",
    "version": 3
   },
   "file_extension": ".py",
   "mimetype": "text/x-python",
   "name": "python",
   "nbconvert_exporter": "python",
   "pygments_lexer": "ipython3",
   "version": "3.12.4"
  }
 },
 "nbformat": 4,
 "nbformat_minor": 5
}
