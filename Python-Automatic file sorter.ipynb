{
 "cells": [
  {
   "cell_type": "code",
   "execution_count": null,
   "id": "6e86f755-9002-4484-8e4b-6b36547fbcf8",
   "metadata": {},
   "outputs": [],
   "source": [
    "#Automatic file sorter"
   ]
  },
  {
   "cell_type": "code",
   "execution_count": 1,
   "id": "724a493c-8f45-44f7-b515-46d3758822e3",
   "metadata": {},
   "outputs": [],
   "source": [
    "import os, shutil"
   ]
  },
  {
   "cell_type": "code",
   "execution_count": 5,
   "id": "63dc7cf0-461c-4b4c-9542-121c00d00df9",
   "metadata": {},
   "outputs": [],
   "source": [
    "path = r\"C:/Users/DELL/Desktop/BEENA NADEEM/Beena Docs/\""
   ]
  },
  {
   "cell_type": "code",
   "execution_count": 34,
   "id": "803c7445-5865-4d3e-84d2-b4ecd316e366",
   "metadata": {},
   "outputs": [
    {
     "data": {
      "text/plain": [
       "['15995179.pdf',\n",
       " 'Bank Statement Beena Nadeem.pdf',\n",
       " 'BEENA NADEEM RESUME - Corporate.docx',\n",
       " 'BEENA NADEEM RESUME-Fajr.docx',\n",
       " 'BEENA NADEEM RESUME-Teaching.docx',\n",
       " 'Beena- NTN.pdf',\n",
       " 'Data Analyst Resume.docx',\n",
       " 'Data Analyst Resume.docx.pdf',\n",
       " 'Declaration4220130301198 (1).pdf',\n",
       " 'DSC_0100.jpg',\n",
       " 'DSC_0101.jpg',\n",
       " 'Final Transcript.pdf',\n",
       " 'NIC Back.jpeg',\n",
       " 'NIC front.jpeg',\n",
       " 'Passport Beena Nadeem.pdf',\n",
       " 'Passport size picture.jpeg',\n",
       " 'Resume Fajr.docx',\n",
       " 'Resume.docx',\n",
       " 'Safari.pdf',\n",
       " 'Tax-interview.pdf',\n",
       " 'Zakat Calculations.xlsx']"
      ]
     },
     "execution_count": 34,
     "metadata": {},
     "output_type": "execute_result"
    }
   ],
   "source": [
    "os.listdir(path)"
   ]
  },
  {
   "cell_type": "code",
   "execution_count": 36,
   "id": "f10fa36c-7da5-4b71-b1cc-7063552955c8",
   "metadata": {},
   "outputs": [],
   "source": [
    "file_name = os.listdir(path)"
   ]
  },
  {
   "cell_type": "code",
   "execution_count": 38,
   "id": "25e24238-d571-4c7d-8c40-9978940087e2",
   "metadata": {},
   "outputs": [
    {
     "name": "stdout",
     "output_type": "stream",
     "text": [
      "C:/Users/DELL/Desktop/BEENA NADEEM/Beena Docs/word file\n",
      "C:/Users/DELL/Desktop/BEENA NADEEM/Beena Docs/pdf file\n"
     ]
    }
   ],
   "source": [
    "folder_names = ['word file', 'pdf file']\n",
    "for loop in range(0,2):\n",
    "    if not os.path.exists(path + folder_names[loop]):\n",
    "                print(path + folder_names[loop])\n",
    "                os.makedirs(path + folder_names[loop])"
   ]
  },
  {
   "cell_type": "code",
   "execution_count": 40,
   "id": "2746af0c-8d42-4cb4-9970-b9a7d438bbeb",
   "metadata": {},
   "outputs": [],
   "source": [
    " for file in file_name:\n",
    "    if \".pdf\" in file and not os.path.exists(path + \"pdf file/\" + file):\n",
    "        shutil.move (path+file, path + \"pdf file/\" + file)\n",
    "    elif \".docx\" in file and not os.path.exists(path + \"word file/\" + file):\n",
    "        shutil.move (path+file, path + \"word file/\" + file)   "
   ]
  },
  {
   "cell_type": "code",
   "execution_count": 31,
   "id": "02b5cc64-8bf1-45ee-a8d1-51d2886d6efc",
   "metadata": {},
   "outputs": [],
   "source": [
    "#path+file is current path and after comma is the path we want it to go. "
   ]
  },
  {
   "cell_type": "code",
   "execution_count": null,
   "id": "349c56a0-a78b-46a0-b83a-71ec0cdd8dc7",
   "metadata": {},
   "outputs": [],
   "source": []
  },
  {
   "cell_type": "code",
   "execution_count": null,
   "id": "912fe997-466b-46f8-a907-dfd0553757b8",
   "metadata": {},
   "outputs": [],
   "source": []
  },
  {
   "cell_type": "code",
   "execution_count": null,
   "id": "7903fa47-da46-47a5-9003-d72c10d682f3",
   "metadata": {},
   "outputs": [],
   "source": []
  },
  {
   "cell_type": "code",
   "execution_count": null,
   "id": "a7ea528f-f7fc-4e25-a84e-d2f57a557e44",
   "metadata": {},
   "outputs": [],
   "source": []
  },
  {
   "cell_type": "code",
   "execution_count": null,
   "id": "1bb5a09b-bda7-4fe1-b95b-98f4b155a42e",
   "metadata": {},
   "outputs": [],
   "source": []
  }
 ],
 "metadata": {
  "kernelspec": {
   "display_name": "Python 3 (ipykernel)",
   "language": "python",
   "name": "python3"
  },
  "language_info": {
   "codemirror_mode": {
    "name": "ipython",
    "version": 3
   },
   "file_extension": ".py",
   "mimetype": "text/x-python",
   "name": "python",
   "nbconvert_exporter": "python",
   "pygments_lexer": "ipython3",
   "version": "3.12.4"
  }
 },
 "nbformat": 4,
 "nbformat_minor": 5
}
